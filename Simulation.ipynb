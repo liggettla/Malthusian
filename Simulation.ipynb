{
  "nbformat": 4,
  "nbformat_minor": 0,
  "metadata": {
    "colab": {
      "name": "Simulation",
      "provenance": [],
      "authorship_tag": "ABX9TyOk2Yrwkysm9pDHRVIs5y+x",
      "include_colab_link": true
    },
    "kernelspec": {
      "name": "python3",
      "display_name": "Python 3"
    },
    "language_info": {
      "name": "python"
    }
  },
  "cells": [
    {
      "cell_type": "markdown",
      "metadata": {
        "id": "view-in-github",
        "colab_type": "text"
      },
      "source": [
        "<a href=\"https://colab.research.google.com/github/liggettla/Malthusian/blob/master/Simulation.ipynb\" target=\"_parent\"><img src=\"https://colab.research.google.com/assets/colab-badge.svg\" alt=\"Open In Colab\"/></a>"
      ]
    },
    {
      "cell_type": "code",
      "source": [
        "'''\n",
        "df = {\n",
        "    'Yeast' : {\n",
        "        1 : Yeast(),\n",
        "        2 : Yeast(),\n",
        "    },\n",
        "\n",
        "    'Cyanobacteria' : {\n",
        "        1 : Cyanobacteria()\n",
        "    }\n",
        "}\n",
        "'''"
      ],
      "metadata": {
        "id": "yKu55XwXQCO3"
      },
      "execution_count": null,
      "outputs": []
    },
    {
      "cell_type": "code",
      "source": [
        "from typing import DefaultDict\n",
        "import pandas as pd\n",
        "import seaborn as sns"
      ],
      "metadata": {
        "id": "uZknCo49tTtm"
      },
      "execution_count": 1,
      "outputs": []
    },
    {
      "cell_type": "code",
      "source": [
        "class Yeast:\n",
        "    def __init__(self):\n",
        "        self.o2 = -1\n",
        "        self.co2 = 1\n",
        "        self.carbon = 0\n",
        "\n",
        "class Cyanobacteria:\n",
        "    def __init__(self):\n",
        "        self.o2 = 1\n",
        "        self.co2 = -1\n",
        "        self.carbon = 0\n",
        "\n",
        "class Organism:\n",
        "    def __init__(self):\n",
        "        self.o2 = 1\n",
        "        self.co2 = -1\n",
        "        self.carbon = 0\n",
        "\n",
        "# seed the world with organisms\n",
        "def big_bang(num_yeast, num_cyanobacteria):\n",
        "    yeast_census = []\n",
        "    cyanobacteria_census = []\n",
        "\n",
        "    # dict that holds all living organisms\n",
        "    df = DefaultDict(dict)\n",
        "\n",
        "    for i in range(num_yeast):\n",
        "        df['Yeast'][i+1] = Yeast()\n",
        "        yeast_census.append(i)\n",
        "\n",
        "    for i in range(num_cyanobacteria):\n",
        "        df['Cyanobacteria'][i+1] = Cyanobacteria()\n",
        "        cyanobacteria_census.append(i)\n",
        "    \n",
        "    return df, yeast_census, cyanobacteria_census\n",
        "\n",
        "def resource_check(individual, global_o2, global_co2):\n",
        "    if global_o2 + individual.o2 >= 0 and global_co2 + individual.co2 >= 0:\n",
        "        return True\n",
        "    else:\n",
        "        return False\n",
        "\n",
        "def metabolize(individual, global_o2, global_co2):\n",
        "    global_o2 += individual.o2\n",
        "    global_co2 += individual.co2\n",
        "    return global_o2, global_co2\n",
        "\n",
        "def reproduce(newborns, organism, num_yeast, num_cyanobacteria):\n",
        "    if organism == 'Yeast':\n",
        "        num_yeast += 1\n",
        "        newborns[organism][num_yeast] = Yeast()\n",
        "\n",
        "    if organism == 'Cyanobacteria':\n",
        "        num_cyanobacteria += 1\n",
        "        newborns[organism][num_cyanobacteria] = Cyanobacteria()\n",
        "    \n",
        "    return newborns, num_yeast, num_cyanobacteria\n",
        "\n",
        "def census(total_population, df):\n",
        "    total_population['Yeast'].append(len(df['Yeast']))\n",
        "    total_population['Cyanobacteria'].append(len(df['Cyanobacteria']))\n",
        "\n",
        "    return total_population\n",
        "\n",
        "def day(day_num, num_yeast, num_cyanobacteria, global_o2, global_co2, df, total_population):\n",
        "\n",
        "    organism_key = {\n",
        "        'Yeast' : Yeast(),\n",
        "        'Cyanobacteria' : Cyanobacteria(),\n",
        "    }\n",
        "\n",
        "    # let there be light\n",
        "    if day_num == 1:\n",
        "        df, yeast_census, cyanobacteria_census = big_bang(num_yeast, num_cyanobacteria)\n",
        "\n",
        "    # all the babies born today\n",
        "    newborns = DefaultDict(dict)\n",
        "\n",
        "    # all organisms that will die today\n",
        "    hitlist = DefaultDict(list)\n",
        "\n",
        "    # iterate through keys so dict items can be deleted without error\n",
        "    for organism in list(df.keys()):\n",
        "        for individual in list(df[organism].keys()):\n",
        "            # check for sufficient resources\n",
        "            if resource_check(df[organism][individual], global_o2, global_co2):\n",
        "                # metabolize\n",
        "                global_o2, global_co2 = metabolize(df[organism][individual], global_o2, global_co2)\n",
        "                # reproduce\n",
        "                newborns, num_yeast, num_cyanobacteria = reproduce(newborns, organism, num_yeast, num_cyanobacteria)\n",
        "\n",
        "            # die if insufficient resourses\n",
        "            else:\n",
        "                hitlist[organism].append(individual)\n",
        "    \n",
        "    # kill organisms that starve\n",
        "    for organism in hitlist:\n",
        "        for individual in hitlist[organism]:\n",
        "            del df[organism][individual]\n",
        "\n",
        "    # give birth\n",
        "    for organism in newborns:\n",
        "        for individual in newborns[organism]:\n",
        "            df[organism][individual] = organism_key[organism] \n",
        "    \n",
        "    total_population = census(total_population, df)\n",
        "    \n",
        "    return df, num_yeast, num_cyanobacteria, global_o2, global_co2, total_population"
      ],
      "metadata": {
        "id": "UKqJADWAp7nt"
      },
      "execution_count": 25,
      "outputs": []
    },
    {
      "cell_type": "code",
      "source": [
        "df = {}\n",
        "day_num = 1\n",
        "\n",
        "# track populations\n",
        "total_population = {\n",
        "    'Yeast' : [],\n",
        "    'Cyanobacteria': [],\n",
        "}\n",
        "\n",
        "\n",
        "num_yeast = 1\n",
        "num_cyanobacteria = 1\n",
        "\n",
        "global_o2 = 30\n",
        "global_co2 = 30\n",
        "\n",
        "for i in range(10):\n",
        "    df, num_yeast, num_cyanobacteria, global_o2, global_co2, total_population = day(day_num, num_yeast, num_cyanobacteria, global_o2, global_co2, df, total_population)\n",
        "    \n",
        "    # print(f'O2: {global_o2},', f'CO2: {global_co2}')\n",
        "    # print(df)\n",
        "    # print(total_population)\n",
        "\n",
        "history = pd.DataFrame(total_population).reset_index().rename(columns={'index':'Day'})\n",
        "# melt().rename(columns={'variable':'Organism','value':'Population'})\n",
        "\n",
        "sns.lineplot(\n",
        "    data=history, x=\"Day\", y=\"Yeast\")\n",
        "sns.lineplot(\n",
        "    data=history, x=\"Day\", y=\"Cyanobacteria\")"
      ],
      "metadata": {
        "colab": {
          "base_uri": "https://localhost:8080/",
          "height": 297
        },
        "id": "ouxao1-GvMow",
        "outputId": "301e82d5-d8c6-47f4-b7c5-e3dfbf005208"
      },
      "execution_count": 26,
      "outputs": [
        {
          "output_type": "execute_result",
          "data": {
            "text/plain": [
              "<matplotlib.axes._subplots.AxesSubplot at 0x7f0257425dd0>"
            ]
          },
          "metadata": {},
          "execution_count": 26
        },
        {
          "output_type": "display_data",
          "data": {
            "text/plain": [
              "<Figure size 432x288 with 1 Axes>"
            ],
            "image/png": "[encoded data removed]"
          },
          "metadata": {
            "needs_background": "light"
          }
        }
      ]
    },
    {
      "cell_type": "code",
      "source": [
        ""
      ],
      "metadata": {
        "id": "GA3K4sgUt3PJ"
      },
      "execution_count": 7,
      "outputs": []
    }
  ]
}