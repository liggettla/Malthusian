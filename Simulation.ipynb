{
  "nbformat": 4,
  "nbformat_minor": 0,
  "metadata": {
    "colab": {
      "name": "Simulation",
      "provenance": [],
      "authorship_tag": "ABX9TyOzpyM1oXOR4fEvK2agfNbH",
      "include_colab_link": true
    },
    "kernelspec": {
      "name": "python3",
      "display_name": "Python 3"
    },
    "language_info": {
      "name": "python"
    }
  },
  "cells": [
    {
      "cell_type": "markdown",
      "metadata": {
        "id": "view-in-github",
        "colab_type": "text"
      },
      "source": [
        "<a href=\"https://colab.research.google.com/github/liggettla/Malthusian/blob/master/Simulation.ipynb\" target=\"_parent\"><img src=\"https://colab.research.google.com/assets/colab-badge.svg\" alt=\"Open In Colab\"/></a>"
      ]
    },
    {
      "cell_type": "code",
      "source": [
        "from pprint import pprint\n",
        "from typing import DefaultDict"
      ],
      "metadata": {
        "id": "uZknCo49tTtm"
      },
      "execution_count": 36,
      "outputs": []
    },
    {
      "cell_type": "code",
      "source": [
        "for i in range(num_yeast):\n",
        "    print(i)"
      ],
      "metadata": {
        "colab": {
          "base_uri": "https://localhost:8080/"
        },
        "id": "bZ54Ai2AXY8Q",
        "outputId": "c5fec2f5-9a93-471e-ade7-5956b079a44d"
      },
      "execution_count": 50,
      "outputs": [
        {
          "output_type": "stream",
          "name": "stdout",
          "text": [
            "0\n",
            "1\n"
          ]
        }
      ]
    },
    {
      "cell_type": "code",
      "source": [
        "\n",
        "class Yeast:\n",
        "    def __init__(self):\n",
        "        self.o2 = -1\n",
        "        self.co2 = 1\n",
        "        self.carbon = 0\n",
        "\n",
        "class Cyanobacteria:\n",
        "    def __init__(self):\n",
        "        self.o2 = 1\n",
        "        self.co2 = -1\n",
        "        self.carbon = 0\n",
        "\n",
        "class Organism:\n",
        "    def __init__(self):\n",
        "        self.o2 = 1\n",
        "        self.co2 = -1\n",
        "        self.carbon = 0\n",
        "\n",
        "# seed the world with organisms\n",
        "def big_bang(num_yeast, num_cyanobacteria):\n",
        "    yeast_census = []\n",
        "    cyanobacteria_census = []\n",
        "\n",
        "    # dict that holds all living organisms\n",
        "    df = DefaultDict(dict)\n",
        "\n",
        "    for i in range(num_yeast):\n",
        "        df['Yeast'][i+1] = Yeast()\n",
        "        yeast_census.append(i)\n",
        "\n",
        "    for i in range(num_cyanobacteria):\n",
        "        df['Cyanobacteria'][i+1] = Cyanobacteria()\n",
        "        cyanobacteria_census.append(i)\n",
        "    \n",
        "    return df, yeast_census, cyanobacteria_census\n",
        "\n",
        "def resource_check(individual, global_o2, global_co2):\n",
        "    if global_o2 + individual.o2 >= 0 and global_co2 + individual.co2 >= 0:\n",
        "        return True\n",
        "    else:\n",
        "        return False\n",
        "\n",
        "def metabolize(individual, global_o2, global_co2):\n",
        "    global_o2 += individual.o2\n",
        "    global_co2 += individual.co2\n",
        "    return global_o2, global_co2\n",
        "\n",
        "def reproduce(newborns, organism):\n",
        "    pass\n",
        "\n",
        "def day(day_num, num_yeast, num_cyanobacteria, global_o2, global_co2, df):\n",
        "\n",
        "    # let there be light\n",
        "    if day_num == 1:\n",
        "        df, yeast_census, cyanobacteria_census = big_bang(num_yeast, num_cyanobacteria)\n",
        "\n",
        "    # all the babies born today\n",
        "    newborns = {}\n",
        "\n",
        "    # iterate through keys so dict items can be deleted without error\n",
        "    for organism in list(df.keys()):\n",
        "        for individual in list(df[organism].keys()):\n",
        "            # check for sufficient resources\n",
        "            if resource_check(df[organism][individual], global_o2, global_co2):\n",
        "                # metabolize\n",
        "                global_o2, global_co2 = metabolize(df[organism][individual], global_o2, global_co2)\n",
        "                # reproduce\n",
        "                newborns = reproduce(newborns, organism)\n",
        "\n",
        "            # die if insufficient resourses\n",
        "            else:\n",
        "                del df[organism][individual]\n",
        "    \n",
        "    return df, num_yeast, num_cyanobacteria, global_o2, global_co2"
      ],
      "metadata": {
        "id": "UKqJADWAp7nt"
      },
      "execution_count": 77,
      "outputs": []
    },
    {
      "cell_type": "code",
      "source": [
        "num_yeast = 2\n",
        "num_cyanobacteria = 1\n",
        "\n",
        "global_o2 = 10\n",
        "global_co2 = 10\n",
        "\n",
        "'''\n",
        "df = {\n",
        "    'Yeast' : {\n",
        "        1 : Yeast(),\n",
        "        2 : Yeast(),\n",
        "    },\n",
        "\n",
        "    'Cyanobacteria' : {\n",
        "        1 : Cyanobacteria()\n",
        "    }\n",
        "}\n",
        "'''"
      ],
      "metadata": {
        "id": "hAnNc_mt3UDr",
        "colab": {
          "base_uri": "https://localhost:8080/",
          "height": 35
        },
        "outputId": "0bdf3a34-8cdc-4fab-f147-71f1ab6b2054"
      },
      "execution_count": 78,
      "outputs": [
        {
          "output_type": "execute_result",
          "data": {
            "text/plain": [
              "\"\\ndf = {\\n    'Yeast' : {\\n        1 : Yeast(),\\n        2 : Yeast(),\\n    },\\n\\n    'Cyanobacteria' : {\\n        1 : Cyanobacteria()\\n    }\\n}\\n\""
            ],
            "application/vnd.google.colaboratory.intrinsic+json": {
              "type": "string"
            }
          },
          "metadata": {},
          "execution_count": 78
        }
      ]
    },
    {
      "cell_type": "code",
      "source": [
        "df = {}\n",
        "day_num = 1\n",
        "\n",
        "for i in range(10):\n",
        "    df, num_yeast, num_cyanobacteria, global_o2, global_co2 = day(day_num, num_yeast, num_cyanobacteria, global_o2, global_co2, df)\n",
        "    \n",
        "    print(global_o2, global_co2)\n",
        "    print(df)"
      ],
      "metadata": {
        "colab": {
          "base_uri": "https://localhost:8080/"
        },
        "id": "ouxao1-GvMow",
        "outputId": "e9de90ab-42c5-4d8e-e2e9-66b8db391721"
      },
      "execution_count": 79,
      "outputs": [
        {
          "output_type": "stream",
          "name": "stdout",
          "text": [
            "9 11\n",
            "defaultdict(<class 'dict'>, {'Yeast': {1: <__main__.Yeast object at 0x7fe8a8d7c650>, 2: <__main__.Yeast object at 0x7fe8a8d7c710>}, 'Cyanobacteria': {1: <__main__.Cyanobacteria object at 0x7fe8a8d7c750>}})\n",
            "8 12\n",
            "defaultdict(<class 'dict'>, {'Yeast': {1: <__main__.Yeast object at 0x7fe8a8d7c2d0>, 2: <__main__.Yeast object at 0x7fe8a8d7c350>}, 'Cyanobacteria': {1: <__main__.Cyanobacteria object at 0x7fe8a8d7c4d0>}})\n",
            "7 13\n",
            "defaultdict(<class 'dict'>, {'Yeast': {1: <__main__.Yeast object at 0x7fe8a8d7c450>, 2: <__main__.Yeast object at 0x7fe8a8d7cad0>}, 'Cyanobacteria': {1: <__main__.Cyanobacteria object at 0x7fe8a8d7ccd0>}})\n",
            "6 14\n",
            "defaultdict(<class 'dict'>, {'Yeast': {1: <__main__.Yeast object at 0x7fe8a8d7cf50>, 2: <__main__.Yeast object at 0x7fe8a8d7c390>}, 'Cyanobacteria': {1: <__main__.Cyanobacteria object at 0x7fe8a8d7ca90>}})\n",
            "5 15\n",
            "defaultdict(<class 'dict'>, {'Yeast': {1: <__main__.Yeast object at 0x7fe8a8de4650>, 2: <__main__.Yeast object at 0x7fe8a8de4990>}, 'Cyanobacteria': {1: <__main__.Cyanobacteria object at 0x7fe8a8de4a50>}})\n",
            "4 16\n",
            "defaultdict(<class 'dict'>, {'Yeast': {1: <__main__.Yeast object at 0x7fe8a8db6a10>, 2: <__main__.Yeast object at 0x7fe8a8db6b90>}, 'Cyanobacteria': {1: <__main__.Cyanobacteria object at 0x7fe8a8de2810>}})\n",
            "3 17\n",
            "defaultdict(<class 'dict'>, {'Yeast': {1: <__main__.Yeast object at 0x7fe8a8de2d90>, 2: <__main__.Yeast object at 0x7fe8a8de2b50>}, 'Cyanobacteria': {1: <__main__.Cyanobacteria object at 0x7fe8a8de2c90>}})\n",
            "2 18\n",
            "defaultdict(<class 'dict'>, {'Yeast': {1: <__main__.Yeast object at 0x7fe8a8dd9210>, 2: <__main__.Yeast object at 0x7fe8a8dd92d0>}, 'Cyanobacteria': {1: <__main__.Cyanobacteria object at 0x7fe8a8dd9bd0>}})\n",
            "1 19\n",
            "defaultdict(<class 'dict'>, {'Yeast': {1: <__main__.Yeast object at 0x7fe8a8d8f4d0>, 2: <__main__.Yeast object at 0x7fe8a8d8f550>}, 'Cyanobacteria': {1: <__main__.Cyanobacteria object at 0x7fe8a8d8fc50>}})\n",
            "1 19\n",
            "defaultdict(<class 'dict'>, {'Yeast': {1: <__main__.Yeast object at 0x7fe8a8d8f410>}, 'Cyanobacteria': {1: <__main__.Cyanobacteria object at 0x7fe8a8d8f9d0>}})\n"
          ]
        }
      ]
    },
    {
      "cell_type": "code",
      "source": [
        ""
      ],
      "metadata": {
        "id": "RS5AYpdGzpZa"
      },
      "execution_count": null,
      "outputs": []
    }
  ]
}