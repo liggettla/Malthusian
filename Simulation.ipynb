{
  "nbformat": 4,
  "nbformat_minor": 0,
  "metadata": {
    "colab": {
      "name": "Simulation",
      "provenance": [],
      "authorship_tag": "ABX9TyOJDm7zgySBEz7kA2sB/0Ln",
      "include_colab_link": true
    },
    "kernelspec": {
      "name": "python3",
      "display_name": "Python 3"
    },
    "language_info": {
      "name": "python"
    }
  },
  "cells": [
    {
      "cell_type": "markdown",
      "metadata": {
        "id": "view-in-github",
        "colab_type": "text"
      },
      "source": [
        "<a href=\"https://colab.research.google.com/github/liggettla/Malthusian/blob/master/Simulation.ipynb\" target=\"_parent\"><img src=\"https://colab.research.google.com/assets/colab-badge.svg\" alt=\"Open In Colab\"/></a>"
      ]
    },
    {
      "cell_type": "code",
      "source": [
        "from pprint import pprint"
      ],
      "metadata": {
        "id": "uZknCo49tTtm"
      },
      "execution_count": 16,
      "outputs": []
    },
    {
      "cell_type": "code",
      "execution_count": 52,
      "metadata": {
        "id": "kEQQJm5lpnyb"
      },
      "outputs": [],
      "source": [
        "class Yeast:\n",
        "    def __init__(self):\n",
        "        self.o2 = -1\n",
        "        self.co2 = 1\n",
        "\n",
        "class Cyanobacteria:\n",
        "    def __init__(self):\n",
        "        self.o2 = 1\n",
        "        self.co2 = -1"
      ]
    },
    {
      "cell_type": "code",
      "source": [
        "global_o2 = 10\n",
        "global_co2 = 10\n",
        "\n",
        "df = {\n",
        "    'Yeast' : {\n",
        "        1 : Yeast(),\n",
        "        2 : Yeast(),\n",
        "    },\n",
        "\n",
        "    'Cyanobacteria' : {\n",
        "        1 : Cyanobacteria()\n",
        "    }\n",
        "}"
      ],
      "metadata": {
        "id": "UKqJADWAp7nt"
      },
      "execution_count": 70,
      "outputs": []
    },
    {
      "cell_type": "code",
      "source": [
        "def year(global_o2, global_co2):\n",
        "    for organism in df:\n",
        "        for individual in df[organism]:\n",
        "            global_o2 += df[organism][individual].o2\n",
        "            global_co2 += df[organism][individual].co2\n",
        "    \n",
        "    return global_o2, global_co2\n",
        "\n",
        "global_o2, global_co2 = year(global_o2, global_co2)\n",
        "print(global_o2, global_co2)"
      ],
      "metadata": {
        "colab": {
          "base_uri": "https://localhost:8080/"
        },
        "id": "ouxao1-GvMow",
        "outputId": "98ad3ba3-611b-444f-9e87-97d5dc0c7b5c"
      },
      "execution_count": 71,
      "outputs": [
        {
          "output_type": "stream",
          "name": "stdout",
          "text": [
            "9 11\n"
          ]
        }
      ]
    },
    {
      "cell_type": "code",
      "source": [
        ""
      ],
      "metadata": {
        "id": "ri0yro45tIJY"
      },
      "execution_count": 61,
      "outputs": []
    }
  ]
}