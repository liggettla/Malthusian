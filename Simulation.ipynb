{
  "nbformat": 4,
  "nbformat_minor": 0,
  "metadata": {
    "colab": {
      "name": "Simulation",
      "provenance": [],
      "authorship_tag": "ABX9TyMmAZlvg8daoHniGy3/5eIS",
      "include_colab_link": true
    },
    "kernelspec": {
      "name": "python3",
      "display_name": "Python 3"
    },
    "language_info": {
      "name": "python"
    }
  },
  "cells": [
    {
      "cell_type": "markdown",
      "metadata": {
        "id": "view-in-github",
        "colab_type": "text"
      },
      "source": [
        "<a href=\"https://colab.research.google.com/github/liggettla/Malthusian/blob/master/Simulation.ipynb\" target=\"_parent\"><img src=\"https://colab.research.google.com/assets/colab-badge.svg\" alt=\"Open In Colab\"/></a>"
      ]
    },
    {
      "cell_type": "code",
      "source": [
        "from pprint import pprint"
      ],
      "metadata": {
        "id": "uZknCo49tTtm"
      },
      "execution_count": 16,
      "outputs": []
    },
    {
      "cell_type": "code",
      "source": [
        "class Yeast:\n",
        "    def __init__(self):\n",
        "        self.o2 = -1\n",
        "        self.co2 = 1\n",
        "\n",
        "class Cyanobacteria:\n",
        "    def __init__(self):\n",
        "        self.o2 = 1\n",
        "        self.co2 = -1\n",
        "\n",
        "def resource_check(individual, global_o2, global_co2):\n",
        "    if global_o2 + individual.o2 >= 0 and global_co2 + individual.co2 >= 0:\n",
        "        return True\n",
        "    else:\n",
        "        return False\n",
        "\n",
        "def metabolize(individual, global_o2, global_co2):\n",
        "    global_o2 += individual.o2\n",
        "    global_co2 += individual.co2\n",
        "    return global_o2, global_co2\n",
        "\n",
        "def reproduce(df, organism, individual):\n",
        "    pass\n",
        "\n",
        "def year(df, global_o2, global_co2):\n",
        "    newborns = []\n",
        "\n",
        "    # iterate through keys so dict items can be deleted without error\n",
        "    for organism in list(df.keys()):\n",
        "        for individual in list(df[organism].keys()):\n",
        "            # check for sufficient resources\n",
        "            if resource_check(df[organism][individual], global_o2, global_co2):\n",
        "                # metabolize\n",
        "                global_o2, global_co2 = metabolize(df[organism][individual], global_o2, global_co2)\n",
        "                # reproduce\n",
        "                reproduce(df, organism, individual)\n",
        "\n",
        "            # die if insufficient resourses\n",
        "            else:\n",
        "                del df[organism][individual]\n",
        "    \n",
        "    return global_o2, global_co2"
      ],
      "metadata": {
        "id": "UKqJADWAp7nt"
      },
      "execution_count": 190,
      "outputs": []
    },
    {
      "cell_type": "code",
      "source": [
        "global_o2 = 2\n",
        "global_co2 = 2\n",
        "\n",
        "df = {\n",
        "    'Yeast' : {\n",
        "        1 : Yeast(),\n",
        "        2 : Yeast(),\n",
        "    },\n",
        "\n",
        "    'Cyanobacteria' : {\n",
        "        1 : Cyanobacteria()\n",
        "    }\n",
        "}"
      ],
      "metadata": {
        "id": "hAnNc_mt3UDr"
      },
      "execution_count": 191,
      "outputs": []
    },
    {
      "cell_type": "code",
      "source": [
        "global_o2, global_co2 = year(df, global_o2, global_co2)\n",
        "\n",
        "print(global_o2, global_co2)\n",
        "print(df)"
      ],
      "metadata": {
        "colab": {
          "base_uri": "https://localhost:8080/"
        },
        "id": "ouxao1-GvMow",
        "outputId": "d64d5565-4c4e-4f78-beb0-81827a7bb788"
      },
      "execution_count": 193,
      "outputs": [
        {
          "output_type": "stream",
          "name": "stdout",
          "text": [
            "1 3\n",
            "{'Yeast': {1: <__main__.Yeast object at 0x7f4822a9b0d0>}, 'Cyanobacteria': {1: <__main__.Cyanobacteria object at 0x7f4822a7f350>}}\n"
          ]
        }
      ]
    },
    {
      "cell_type": "code",
      "source": [
        ""
      ],
      "metadata": {
        "id": "RS5AYpdGzpZa"
      },
      "execution_count": null,
      "outputs": []
    }
  ]
}